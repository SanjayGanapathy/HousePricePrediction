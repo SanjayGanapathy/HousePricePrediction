{
  "cells": [
    {
      "cell_type": "markdown",
      "metadata": {
        "id": "view-in-github",
        "colab_type": "text"
      },
      "source": [
        "<a href=\"https://colab.research.google.com/github/SanjayGanapathy/HousePricePrediction/blob/main/Benchmark_Dataset_Implementation.ipynb\" target=\"_parent\"><img src=\"https://colab.research.google.com/assets/colab-badge.svg\" alt=\"Open In Colab\"/></a>"
      ]
    },
    {
      "cell_type": "markdown",
      "metadata": {
        "id": "7nO53IE11wIj"
      },
      "source": [
        "# **Unsupervised Anomaly Detection with a Benchmark Dataset**\n"
      ]
    },
    {
      "cell_type": "markdown",
      "source": [
        "* This Colab Notebook is meant to explore anomalous data and variable relations in benchmark Data with Temperature Data.\n",
        "* The prupose of this code is to try to create a solidly working model that can be applied to different kinds of data.  \n",
        "* The primary method of detection is using Machine Learning Anomaly Detection models.\n"
      ],
      "metadata": {
        "id": "eHEfLN5mRpA4"
      }
    },
    {
      "cell_type": "markdown",
      "metadata": {
        "id": "Mrf9c49yEHnr"
      },
      "source": [
        "# Required Packages\n",
        "\n",
        "Algorithms implemented below:\n",
        "\n",
        "* Isolation Forest\n",
        "* One class SVM\n",
        "* RNN [Recurrent Neural Network for deep Learning]\n",
        "* Markov Chain"
      ]
    },
    {
      "cell_type": "code",
      "source": [
        "!git clone https://github.com/numenta/NAB.git"
      ],
      "metadata": {
        "colab": {
          "base_uri": "https://localhost:8080/"
        },
        "id": "ge-dIeoqsLcH",
        "outputId": "4a03fe5a-60b2-498f-a7ab-c516c3a59bcd"
      },
      "execution_count": null,
      "outputs": [
        {
          "output_type": "stream",
          "name": "stdout",
          "text": [
            "fatal: destination path 'NAB' already exists and is not an empty directory.\n"
          ]
        }
      ]
    },
    {
      "cell_type": "code",
      "execution_count": null,
      "metadata": {
        "id": "2RbbdZDC1vvn"
      },
      "outputs": [],
      "source": [
        "import pandas as pd\n",
        "import numpy as np\n",
        "import matplotlib\n",
        "import seaborn as sns\n",
        "import matplotlib.dates as md\n",
        "from matplotlib import pyplot as plt\n",
        "from sklearn import preprocessing\n",
        "from sklearn.decomposition import PCA\n",
        "from sklearn.preprocessing import StandardScaler\n",
        "from sklearn.svm import OneClassSVM\n",
        "from sklearn.model_selection import train_test_split\n",
        "from sklearn.metrics import precision_score, recall_score, f1_score, accuracy_score, confusion_matrix\n",
        "from sklearn.ensemble import IsolationForest\n",
        "from tensorflow.keras.models import Sequential\n",
        "from tensorflow.keras.layers import LSTM, Dense, Dropout, Bidirectional\n",
        "import json\n",
        "from sklearn.metrics import classification_report\n",
        "from imblearn.over_sampling import SMOTE\n",
        "from sklearn.preprocessing import MinMaxScaler\n",
        "from sklearn.neural_network import MLPRegressor\n",
        "import random"
      ]
    },
    {
      "cell_type": "markdown",
      "metadata": {
        "id": "2MZf6sEMIPMJ"
      },
      "source": [
        "# Loading & Assessing Dataset\n",
        "\n",
        "Dataset sourced from Kaggle and serves as a benchmark for model performance. The data is made of 58 labeled real-world and artificial timeseries data files plus a new scoring mechanism designed for real-time applications. All of the data is purely open source. Please refer to the link for more information about the dataset and/or data. For now, we are looking at anomalies in terms of temperature data over time.\n",
        "\n",
        "Link: https://www.kaggle.com/datasets/boltzmannbrain/nab\n",
        "\n",
        "---\n",
        "\n"
      ]
    },
    {
      "cell_type": "code",
      "source": [
        "# Load the dataset\n",
        "df = pd.read_csv(\"/content/NAB/data/realKnownCause/ambient_temperature_system_failure.csv\")\n",
        "\n",
        "# Convert timestamp to datetime format\n",
        "df['timestamp'] = pd.to_datetime(df['timestamp'])\n",
        "\n",
        "# Sort the dataframe by timestamp\n",
        "df = df.sort_values('timestamp').reset_index(drop=True)\n"
      ],
      "metadata": {
        "id": "vN9C2QpE6iyz"
      },
      "execution_count": null,
      "outputs": []
    },
    {
      "cell_type": "code",
      "source": [
        "df.describe()"
      ],
      "metadata": {
        "colab": {
          "base_uri": "https://localhost:8080/",
          "height": 300
        },
        "id": "km8wDbHr7km4",
        "outputId": "bec9c7a0-d2f5-4497-c71e-02dee8b5ca69"
      },
      "execution_count": null,
      "outputs": [
        {
          "output_type": "execute_result",
          "data": {
            "text/plain": [
              "                           timestamp        value\n",
              "count                           7267  7267.000000\n",
              "mean   2013-12-17 01:43:01.477914112    71.242433\n",
              "min              2013-07-04 00:00:00    57.458406\n",
              "25%              2013-10-01 13:30:00    68.369411\n",
              "50%              2013-12-19 04:00:00    71.858493\n",
              "75%              2014-03-06 01:30:00    74.430958\n",
              "max              2014-05-28 15:00:00    86.223213\n",
              "std                              NaN     4.247509"
            ],
            "text/html": [
              "\n",
              "  <div id=\"df-f1d3d3c5-5f10-4a0b-bd81-517925424cf9\" class=\"colab-df-container\">\n",
              "    <div>\n",
              "<style scoped>\n",
              "    .dataframe tbody tr th:only-of-type {\n",
              "        vertical-align: middle;\n",
              "    }\n",
              "\n",
              "    .dataframe tbody tr th {\n",
              "        vertical-align: top;\n",
              "    }\n",
              "\n",
              "    .dataframe thead th {\n",
              "        text-align: right;\n",
              "    }\n",
              "</style>\n",
              "<table border=\"1\" class=\"dataframe\">\n",
              "  <thead>\n",
              "    <tr style=\"text-align: right;\">\n",
              "      <th></th>\n",
              "      <th>timestamp</th>\n",
              "      <th>value</th>\n",
              "    </tr>\n",
              "  </thead>\n",
              "  <tbody>\n",
              "    <tr>\n",
              "      <th>count</th>\n",
              "      <td>7267</td>\n",
              "      <td>7267.000000</td>\n",
              "    </tr>\n",
              "    <tr>\n",
              "      <th>mean</th>\n",
              "      <td>2013-12-17 01:43:01.477914112</td>\n",
              "      <td>71.242433</td>\n",
              "    </tr>\n",
              "    <tr>\n",
              "      <th>min</th>\n",
              "      <td>2013-07-04 00:00:00</td>\n",
              "      <td>57.458406</td>\n",
              "    </tr>\n",
              "    <tr>\n",
              "      <th>25%</th>\n",
              "      <td>2013-10-01 13:30:00</td>\n",
              "      <td>68.369411</td>\n",
              "    </tr>\n",
              "    <tr>\n",
              "      <th>50%</th>\n",
              "      <td>2013-12-19 04:00:00</td>\n",
              "      <td>71.858493</td>\n",
              "    </tr>\n",
              "    <tr>\n",
              "      <th>75%</th>\n",
              "      <td>2014-03-06 01:30:00</td>\n",
              "      <td>74.430958</td>\n",
              "    </tr>\n",
              "    <tr>\n",
              "      <th>max</th>\n",
              "      <td>2014-05-28 15:00:00</td>\n",
              "      <td>86.223213</td>\n",
              "    </tr>\n",
              "    <tr>\n",
              "      <th>std</th>\n",
              "      <td>NaN</td>\n",
              "      <td>4.247509</td>\n",
              "    </tr>\n",
              "  </tbody>\n",
              "</table>\n",
              "</div>\n",
              "    <div class=\"colab-df-buttons\">\n",
              "\n",
              "  <div class=\"colab-df-container\">\n",
              "    <button class=\"colab-df-convert\" onclick=\"convertToInteractive('df-f1d3d3c5-5f10-4a0b-bd81-517925424cf9')\"\n",
              "            title=\"Convert this dataframe to an interactive table.\"\n",
              "            style=\"display:none;\">\n",
              "\n",
              "  <svg xmlns=\"http://www.w3.org/2000/svg\" height=\"24px\" viewBox=\"0 -960 960 960\">\n",
              "    <path d=\"M120-120v-720h720v720H120Zm60-500h600v-160H180v160Zm220 220h160v-160H400v160Zm0 220h160v-160H400v160ZM180-400h160v-160H180v160Zm440 0h160v-160H620v160ZM180-180h160v-160H180v160Zm440 0h160v-160H620v160Z\"/>\n",
              "  </svg>\n",
              "    </button>\n",
              "\n",
              "  <style>\n",
              "    .colab-df-container {\n",
              "      display:flex;\n",
              "      gap: 12px;\n",
              "    }\n",
              "\n",
              "    .colab-df-convert {\n",
              "      background-color: #E8F0FE;\n",
              "      border: none;\n",
              "      border-radius: 50%;\n",
              "      cursor: pointer;\n",
              "      display: none;\n",
              "      fill: #1967D2;\n",
              "      height: 32px;\n",
              "      padding: 0 0 0 0;\n",
              "      width: 32px;\n",
              "    }\n",
              "\n",
              "    .colab-df-convert:hover {\n",
              "      background-color: #E2EBFA;\n",
              "      box-shadow: 0px 1px 2px rgba(60, 64, 67, 0.3), 0px 1px 3px 1px rgba(60, 64, 67, 0.15);\n",
              "      fill: #174EA6;\n",
              "    }\n",
              "\n",
              "    .colab-df-buttons div {\n",
              "      margin-bottom: 4px;\n",
              "    }\n",
              "\n",
              "    [theme=dark] .colab-df-convert {\n",
              "      background-color: #3B4455;\n",
              "      fill: #D2E3FC;\n",
              "    }\n",
              "\n",
              "    [theme=dark] .colab-df-convert:hover {\n",
              "      background-color: #434B5C;\n",
              "      box-shadow: 0px 1px 3px 1px rgba(0, 0, 0, 0.15);\n",
              "      filter: drop-shadow(0px 1px 2px rgba(0, 0, 0, 0.3));\n",
              "      fill: #FFFFFF;\n",
              "    }\n",
              "  </style>\n",
              "\n",
              "    <script>\n",
              "      const buttonEl =\n",
              "        document.querySelector('#df-f1d3d3c5-5f10-4a0b-bd81-517925424cf9 button.colab-df-convert');\n",
              "      buttonEl.style.display =\n",
              "        google.colab.kernel.accessAllowed ? 'block' : 'none';\n",
              "\n",
              "      async function convertToInteractive(key) {\n",
              "        const element = document.querySelector('#df-f1d3d3c5-5f10-4a0b-bd81-517925424cf9');\n",
              "        const dataTable =\n",
              "          await google.colab.kernel.invokeFunction('convertToInteractive',\n",
              "                                                    [key], {});\n",
              "        if (!dataTable) return;\n",
              "\n",
              "        const docLinkHtml = 'Like what you see? Visit the ' +\n",
              "          '<a target=\"_blank\" href=https://colab.research.google.com/notebooks/data_table.ipynb>data table notebook</a>'\n",
              "          + ' to learn more about interactive tables.';\n",
              "        element.innerHTML = '';\n",
              "        dataTable['output_type'] = 'display_data';\n",
              "        await google.colab.output.renderOutput(dataTable, element);\n",
              "        const docLink = document.createElement('div');\n",
              "        docLink.innerHTML = docLinkHtml;\n",
              "        element.appendChild(docLink);\n",
              "      }\n",
              "    </script>\n",
              "  </div>\n",
              "\n",
              "\n",
              "<div id=\"df-0d055aab-d0ad-4e0b-9024-399fcfdffe8e\">\n",
              "  <button class=\"colab-df-quickchart\" onclick=\"quickchart('df-0d055aab-d0ad-4e0b-9024-399fcfdffe8e')\"\n",
              "            title=\"Suggest charts\"\n",
              "            style=\"display:none;\">\n",
              "\n",
              "<svg xmlns=\"http://www.w3.org/2000/svg\" height=\"24px\"viewBox=\"0 0 24 24\"\n",
              "     width=\"24px\">\n",
              "    <g>\n",
              "        <path d=\"M19 3H5c-1.1 0-2 .9-2 2v14c0 1.1.9 2 2 2h14c1.1 0 2-.9 2-2V5c0-1.1-.9-2-2-2zM9 17H7v-7h2v7zm4 0h-2V7h2v10zm4 0h-2v-4h2v4z\"/>\n",
              "    </g>\n",
              "</svg>\n",
              "  </button>\n",
              "\n",
              "<style>\n",
              "  .colab-df-quickchart {\n",
              "      --bg-color: #E8F0FE;\n",
              "      --fill-color: #1967D2;\n",
              "      --hover-bg-color: #E2EBFA;\n",
              "      --hover-fill-color: #174EA6;\n",
              "      --disabled-fill-color: #AAA;\n",
              "      --disabled-bg-color: #DDD;\n",
              "  }\n",
              "\n",
              "  [theme=dark] .colab-df-quickchart {\n",
              "      --bg-color: #3B4455;\n",
              "      --fill-color: #D2E3FC;\n",
              "      --hover-bg-color: #434B5C;\n",
              "      --hover-fill-color: #FFFFFF;\n",
              "      --disabled-bg-color: #3B4455;\n",
              "      --disabled-fill-color: #666;\n",
              "  }\n",
              "\n",
              "  .colab-df-quickchart {\n",
              "    background-color: var(--bg-color);\n",
              "    border: none;\n",
              "    border-radius: 50%;\n",
              "    cursor: pointer;\n",
              "    display: none;\n",
              "    fill: var(--fill-color);\n",
              "    height: 32px;\n",
              "    padding: 0;\n",
              "    width: 32px;\n",
              "  }\n",
              "\n",
              "  .colab-df-quickchart:hover {\n",
              "    background-color: var(--hover-bg-color);\n",
              "    box-shadow: 0 1px 2px rgba(60, 64, 67, 0.3), 0 1px 3px 1px rgba(60, 64, 67, 0.15);\n",
              "    fill: var(--button-hover-fill-color);\n",
              "  }\n",
              "\n",
              "  .colab-df-quickchart-complete:disabled,\n",
              "  .colab-df-quickchart-complete:disabled:hover {\n",
              "    background-color: var(--disabled-bg-color);\n",
              "    fill: var(--disabled-fill-color);\n",
              "    box-shadow: none;\n",
              "  }\n",
              "\n",
              "  .colab-df-spinner {\n",
              "    border: 2px solid var(--fill-color);\n",
              "    border-color: transparent;\n",
              "    border-bottom-color: var(--fill-color);\n",
              "    animation:\n",
              "      spin 1s steps(1) infinite;\n",
              "  }\n",
              "\n",
              "  @keyframes spin {\n",
              "    0% {\n",
              "      border-color: transparent;\n",
              "      border-bottom-color: var(--fill-color);\n",
              "      border-left-color: var(--fill-color);\n",
              "    }\n",
              "    20% {\n",
              "      border-color: transparent;\n",
              "      border-left-color: var(--fill-color);\n",
              "      border-top-color: var(--fill-color);\n",
              "    }\n",
              "    30% {\n",
              "      border-color: transparent;\n",
              "      border-left-color: var(--fill-color);\n",
              "      border-top-color: var(--fill-color);\n",
              "      border-right-color: var(--fill-color);\n",
              "    }\n",
              "    40% {\n",
              "      border-color: transparent;\n",
              "      border-right-color: var(--fill-color);\n",
              "      border-top-color: var(--fill-color);\n",
              "    }\n",
              "    60% {\n",
              "      border-color: transparent;\n",
              "      border-right-color: var(--fill-color);\n",
              "    }\n",
              "    80% {\n",
              "      border-color: transparent;\n",
              "      border-right-color: var(--fill-color);\n",
              "      border-bottom-color: var(--fill-color);\n",
              "    }\n",
              "    90% {\n",
              "      border-color: transparent;\n",
              "      border-bottom-color: var(--fill-color);\n",
              "    }\n",
              "  }\n",
              "</style>\n",
              "\n",
              "  <script>\n",
              "    async function quickchart(key) {\n",
              "      const quickchartButtonEl =\n",
              "        document.querySelector('#' + key + ' button');\n",
              "      quickchartButtonEl.disabled = true;  // To prevent multiple clicks.\n",
              "      quickchartButtonEl.classList.add('colab-df-spinner');\n",
              "      try {\n",
              "        const charts = await google.colab.kernel.invokeFunction(\n",
              "            'suggestCharts', [key], {});\n",
              "      } catch (error) {\n",
              "        console.error('Error during call to suggestCharts:', error);\n",
              "      }\n",
              "      quickchartButtonEl.classList.remove('colab-df-spinner');\n",
              "      quickchartButtonEl.classList.add('colab-df-quickchart-complete');\n",
              "    }\n",
              "    (() => {\n",
              "      let quickchartButtonEl =\n",
              "        document.querySelector('#df-0d055aab-d0ad-4e0b-9024-399fcfdffe8e button');\n",
              "      quickchartButtonEl.style.display =\n",
              "        google.colab.kernel.accessAllowed ? 'block' : 'none';\n",
              "    })();\n",
              "  </script>\n",
              "</div>\n",
              "\n",
              "    </div>\n",
              "  </div>\n"
            ],
            "application/vnd.google.colaboratory.intrinsic+json": {
              "type": "dataframe",
              "summary": "{\n  \"name\": \"df\",\n  \"rows\": 8,\n  \"fields\": [\n    {\n      \"column\": \"timestamp\",\n      \"properties\": {\n        \"dtype\": \"date\",\n        \"min\": \"1970-01-01 00:00:00.000007267\",\n        \"max\": \"2014-05-28 15:00:00\",\n        \"num_unique_values\": 7,\n        \"samples\": [\n          \"7267\",\n          \"2013-12-17 01:43:01.477914112\",\n          \"2014-03-06 01:30:00\"\n        ],\n        \"semantic_type\": \"\",\n        \"description\": \"\"\n      }\n    },\n    {\n      \"column\": \"value\",\n      \"properties\": {\n        \"dtype\": \"number\",\n        \"std\": 2547.48188766355,\n        \"min\": 4.247509415248357,\n        \"max\": 7267.0,\n        \"num_unique_values\": 8,\n        \"samples\": [\n          71.24243270828815,\n          74.43095786,\n          7267.0\n        ],\n        \"semantic_type\": \"\",\n        \"description\": \"\"\n      }\n    }\n  ]\n}"
            }
          },
          "metadata": {},
          "execution_count": 6
        }
      ]
    },
    {
      "cell_type": "markdown",
      "source": [
        "# **Standardized Anomaly Injection**"
      ],
      "metadata": {
        "id": "f69Lr50ze4yJ"
      }
    },
    {
      "cell_type": "code",
      "source": [
        "random_numbers = [random.randint(1, 7267) for _ in range(365)]\n",
        "generated_anomalies = [random.randint(100, 200) for _ in range (365)]\n",
        "def inject_anomalies(df):\n",
        "    df_copy = df.copy()\n",
        "    for i, index in enumerate(random_numbers):\n",
        "        df_copy.at[index, 'value'] += generated_anomalies[i]\n",
        "    return df_copy"
      ],
      "metadata": {
        "id": "5Rh1RSqq6nrF"
      },
      "execution_count": null,
      "outputs": []
    },
    {
      "cell_type": "markdown",
      "source": [
        "# **Standardized Evaluation using the Benchmark Dataset**"
      ],
      "metadata": {
        "id": "BfOnSjKKwwv2"
      }
    },
    {
      "cell_type": "code",
      "source": [
        "def evaluate_model(true_labels, predicted_labels):\n",
        "    print(\"Classification Report:\")\n",
        "    print(classification_report(true_labels, predicted_labels))\n",
        "    print(\"Confusion Matrix:\")\n",
        "    print(confusion_matrix(true_labels, predicted_labels))"
      ],
      "metadata": {
        "id": "Nrj_pYmE8kcz"
      },
      "execution_count": null,
      "outputs": []
    },
    {
      "cell_type": "markdown",
      "source": [
        "# **Standardized Visualization**"
      ],
      "metadata": {
        "id": "ngLB5BcnyTLH"
      }
    },
    {
      "cell_type": "code",
      "source": [
        "def plot_confusion_matrix(true_labels, predicted_labels):\n",
        "    cm = confusion_matrix(true_labels, predicted_labels)\n",
        "    plt.figure(figsize=(10,7))\n",
        "    sns.heatmap(cm, annot=True, fmt='d', cmap='Blues')\n",
        "    plt.xlabel('Predicted')\n",
        "    plt.ylabel('True')\n",
        "    plt.show()"
      ],
      "metadata": {
        "id": "EfbNafPg8os4"
      },
      "execution_count": null,
      "outputs": []
    },
    {
      "cell_type": "markdown",
      "metadata": {
        "id": "peggsVQmoPSa"
      },
      "source": [
        "# One Class SVM"
      ]
    },
    {
      "cell_type": "code",
      "source": [
        "df_with_anomalies = inject_anomalies(df)\n",
        "\n",
        "X = df_with_anomalies['value'].values.reshape(-1, 1)\n",
        "\n",
        "# Fit the OCSVM model\n",
        "ocsvm = OneClassSVM(nu=0.05, gamma='auto')\n",
        "ocsvm.fit(X)\n",
        "\n",
        "# Predict anomalies\n",
        "predicted_labels = ocsvm.predict(X)\n",
        "predicted_labels = np.where(predicted_labels == 1, 0, 1)  # Convert to binary labels\n",
        "true_labels = np.zeros(len(df))\n",
        "true_labels[random_numbers] = 1\n",
        "\n",
        "# Evaluate the model\n",
        "evaluate_model(true_labels, predicted_labels)\n",
        "\n",
        "# Visualize the confusion matrix\n",
        "plot_confusion_matrix(true_labels, predicted_labels)\n",
        "\n"
      ],
      "metadata": {
        "colab": {
          "base_uri": "https://localhost:8080/",
          "height": 845
        },
        "id": "lNjGYT_o8vhB",
        "outputId": "b8f54daa-6673-4824-9688-a963f2f01b8c"
      },
      "execution_count": null,
      "outputs": [
        {
          "output_type": "stream",
          "name": "stdout",
          "text": [
            "Classification Report:\n",
            "              precision    recall  f1-score   support\n",
            "\n",
            "         0.0       0.98      0.70      0.82      6907\n",
            "         1.0       0.11      0.72      0.19       360\n",
            "\n",
            "    accuracy                           0.70      7267\n",
            "   macro avg       0.55      0.71      0.51      7267\n",
            "weighted avg       0.94      0.70      0.79      7267\n",
            "\n",
            "Confusion Matrix:\n",
            "[[4850 2057]\n",
            " [  99  261]]\n"
          ]
        },
        {
          "output_type": "display_data",
          "data": {
            "text/plain": [
              "<Figure size 1000x700 with 2 Axes>"
            ],
            "image/png": "[encoded data removed]"
          },
          "metadata": {}
        }
      ]
    },
    {
      "cell_type": "markdown",
      "metadata": {
        "id": "lo9S1k-Dq8iU"
      },
      "source": [
        "# **Isolation Forest**"
      ]
    },
    {
      "cell_type": "code",
      "source": [
        "# Fit the Isolation Forest model\n",
        "isolation_forest = IsolationForest(contamination=0.05)\n",
        "isolation_forest.fit(X)\n",
        "\n",
        "# Predict anomalies\n",
        "predicted_labels = isolation_forest.predict(X)\n",
        "predicted_labels = np.where(predicted_labels == 1, 0, 1)  # Convert to binary labels\n",
        "\n",
        "# Evaluate the model\n",
        "evaluate_model(true_labels, predicted_labels)\n",
        "\n",
        "# Visualize the confusion matrix\n",
        "plot_confusion_matrix(true_labels, predicted_labels)\n"
      ],
      "metadata": {
        "colab": {
          "base_uri": "https://localhost:8080/",
          "height": 845
        },
        "id": "BoLNjOpE8zNA",
        "outputId": "5af67f15-8643-4dd4-f3b1-00808a893fad"
      },
      "execution_count": null,
      "outputs": [
        {
          "output_type": "stream",
          "name": "stdout",
          "text": [
            "Classification Report:\n",
            "              precision    recall  f1-score   support\n",
            "\n",
            "         0.0       1.00      1.00      1.00      6907\n",
            "         1.0       0.93      0.94      0.93       360\n",
            "\n",
            "    accuracy                           0.99      7267\n",
            "   macro avg       0.96      0.97      0.96      7267\n",
            "weighted avg       0.99      0.99      0.99      7267\n",
            "\n",
            "Confusion Matrix:\n",
            "[[6880   27]\n",
            " [  23  337]]\n"
          ]
        },
        {
          "output_type": "display_data",
          "data": {
            "text/plain": [
              "<Figure size 1000x700 with 2 Axes>"
            ],
            "image/png": "[encoded data removed]"
          },
          "metadata": {}
        }
      ]
    },
    {
      "cell_type": "markdown",
      "metadata": {
        "id": "ZT1IVX8Ah2CC"
      },
      "source": [
        "# **Markov Chains**"
      ]
    },
    {
      "cell_type": "code",
      "source": [
        "!pip install hmmlearn\n",
        "from hmmlearn import hmm"
      ],
      "metadata": {
        "colab": {
          "base_uri": "https://localhost:8080/"
        },
        "id": "BmI-HtcCDPbd",
        "outputId": "57a13038-76c4-4eb6-e7e6-340eaad462f3"
      },
      "execution_count": null,
      "outputs": [
        {
          "output_type": "stream",
          "name": "stdout",
          "text": [
            "Collecting hmmlearn\n",
            "  Downloading hmmlearn-0.3.2-cp310-cp310-manylinux_2_17_x86_64.manylinux2014_x86_64.whl (161 kB)\n",
            "\u001b[2K     \u001b[90m━━━━━━━━━━━━━━━━━━━━━━━━━━━━━━━━━━━━━━━━\u001b[0m \u001b[32m161.1/161.1 kB\u001b[0m \u001b[31m3.3 MB/s\u001b[0m eta \u001b[36m0:00:00\u001b[0m\n",
            "\u001b[?25hRequirement already satisfied: numpy>=1.10 in /usr/local/lib/python3.10/dist-packages (from hmmlearn) (1.25.2)\n",
            "Requirement already satisfied: scikit-learn!=0.22.0,>=0.16 in /usr/local/lib/python3.10/dist-packages (from hmmlearn) (1.2.2)\n",
            "Requirement already satisfied: scipy>=0.19 in /usr/local/lib/python3.10/dist-packages (from hmmlearn) (1.11.4)\n",
            "Requirement already satisfied: joblib>=1.1.1 in /usr/local/lib/python3.10/dist-packages (from scikit-learn!=0.22.0,>=0.16->hmmlearn) (1.4.2)\n",
            "Requirement already satisfied: threadpoolctl>=2.0.0 in /usr/local/lib/python3.10/dist-packages (from scikit-learn!=0.22.0,>=0.16->hmmlearn) (3.5.0)\n",
            "Installing collected packages: hmmlearn\n",
            "Successfully installed hmmlearn-0.3.2\n"
          ]
        }
      ]
    },
    {
      "cell_type": "code",
      "source": [
        "# Sort the dataframe by timestamp\n",
        "df = df.sort_values('timestamp').reset_index(drop=True)\n",
        "# Prepare the data for HMM\n",
        "X_hmm = df_with_anomalies['value'].values.reshape(-1, 1)\n",
        "\n",
        "# Define the Gaussian HMM model\n",
        "model = hmm.GaussianHMM(n_components=2, covariance_type=\"diag\", n_iter=100)\n",
        "\n",
        "# Fit the model\n",
        "model.fit(X_hmm)\n",
        "\n",
        "# Predict anomalies\n",
        "log_probs = model.score_samples(X_hmm)[0]\n",
        "threshold = np.percentile(log_probs, 1)  # Lower the percentile for the threshold\n",
        "predicted_labels = model.predict(X_hmm)\n",
        "predicted_labels_hmm = np.where(log_probs < threshold, 1, 0) # Changed variable name to avoid overwriting\n",
        "predicted_labels_hmm = predicted_labels_hmm.tolist()\n",
        "\n",
        "# Define confusion matrix plotting function\n",
        "def plot_confusion_matrix(true_labels, predicted_labels):\n",
        "    cm = confusion_matrix(true_labels, predicted_labels)\n",
        "    plt.figure(figsize=(10,7))\n",
        "    sns.heatmap(cm, annot=True, fmt='d', cmap='Blues')\n",
        "    plt.xlabel('Predicted')\n",
        "    plt.ylabel('True')\n",
        "    plt.show()\n",
        "\n",
        "# Evaluate the model\n",
        "evaluate_model(true_labels, predicted_labels)\n",
        "\n",
        "# Visualize the confusion matrix\n",
        "plot_confusion_matrix(true_labels, predicted_labels)\n"
      ],
      "metadata": {
        "colab": {
          "base_uri": "https://localhost:8080/",
          "height": 845
        },
        "id": "qpsFSF0y8-AD",
        "outputId": "dcb1af59-b7e6-47bc-8335-16f82191a92f"
      },
      "execution_count": null,
      "outputs": [
        {
          "output_type": "stream",
          "name": "stdout",
          "text": [
            "Classification Report:\n",
            "              precision    recall  f1-score   support\n",
            "\n",
            "         0.0       1.00      1.00      1.00      6907\n",
            "         1.0       1.00      1.00      1.00       360\n",
            "\n",
            "    accuracy                           1.00      7267\n",
            "   macro avg       1.00      1.00      1.00      7267\n",
            "weighted avg       1.00      1.00      1.00      7267\n",
            "\n",
            "Confusion Matrix:\n",
            "[[6907    0]\n",
            " [   0  360]]\n"
          ]
        },
        {
          "output_type": "display_data",
          "data": {
            "text/plain": [
              "<Figure size 1000x700 with 2 Axes>"
            ],
            "image/png": "[encoded data removed]"
          },
          "metadata": {}
        }
      ]
    },
    {
      "cell_type": "markdown",
      "source": [
        "# **RNN (LSTM)**"
      ],
      "metadata": {
        "id": "ltbJ1dF88258"
      }
    },
    {
      "cell_type": "code",
      "source": [
        "sequence_length = 50\n",
        "X_rnn = []\n",
        "y_rnn = []\n",
        "for i in range(sequence_length, len(df_with_anomalies)):\n",
        "    X_rnn.append(df_with_anomalies['value'].values[i-sequence_length:i])\n",
        "    y_rnn.append(true_labels[i])\n",
        "\n",
        "X_rnn, y_rnn = np.array(X_rnn), np.array(y_rnn)\n",
        "\n",
        "# Reshape input data to (samples, sequence_length, 1)\n",
        "X_rnn = X_rnn.reshape((X_rnn.shape[0], X_rnn.shape[1], 1))\n",
        "\n",
        "# Build the RNN model\n",
        "model = Sequential([\n",
        "    LSTM(100, return_sequences=True, input_shape=(sequence_length, 1)),\n",
        "    Dropout(0.3),\n",
        "    LSTM(100),\n",
        "    Dropout(0.3),\n",
        "    Dense(1, activation='sigmoid')\n",
        "])\n",
        "\n",
        "model.compile(optimizer='adam', loss='binary_crossentropy', metrics=['accuracy'])\n",
        "\n",
        "# Train the model\n",
        "model.fit(X_rnn, y_rnn, epochs=20, batch_size=32, validation_split=0.2)\n",
        "\n",
        "# Predict anomalies\n",
        "predicted_probs = model.predict(X_rnn)\n",
        "predicted_labels = np.where(predicted_probs > 0.5, 1, 0).flatten()\n",
        "\n",
        "# Evaluate the model\n",
        "evaluate_model(y_rnn, predicted_labels)\n",
        "\n",
        "# Visualize the confusion matrix\n",
        "plot_confusion_matrix(y_rnn, predicted_labels)"
      ],
      "metadata": {
        "colab": {
          "base_uri": "https://localhost:8080/",
          "height": 1000
        },
        "id": "N-D6Kmgd82ny",
        "outputId": "47f0027f-3e8a-478b-f617-f516d2facbf6"
      },
      "execution_count": null,
      "outputs": [
        {
          "output_type": "stream",
          "name": "stdout",
          "text": [
            "Epoch 1/20\n",
            "181/181 [==============================] - 54s 249ms/step - loss: 0.2020 - accuracy: 0.9472 - val_loss: 0.2249 - val_accuracy: 0.9439\n",
            "Epoch 2/20\n",
            "181/181 [==============================] - 20s 108ms/step - loss: 0.1954 - accuracy: 0.9522 - val_loss: 0.2166 - val_accuracy: 0.9439\n",
            "Epoch 3/20\n",
            "181/181 [==============================] - 19s 104ms/step - loss: 0.1954 - accuracy: 0.9522 - val_loss: 0.2162 - val_accuracy: 0.9439\n",
            "Epoch 4/20\n",
            "181/181 [==============================] - 23s 129ms/step - loss: 0.1952 - accuracy: 0.9522 - val_loss: 0.2163 - val_accuracy: 0.9439\n",
            "Epoch 5/20\n",
            "181/181 [==============================] - 23s 125ms/step - loss: 0.1953 - accuracy: 0.9522 - val_loss: 0.2182 - val_accuracy: 0.9439\n",
            "Epoch 6/20\n",
            "181/181 [==============================] - 19s 104ms/step - loss: 0.1950 - accuracy: 0.9522 - val_loss: 0.2161 - val_accuracy: 0.9439\n",
            "Epoch 7/20\n",
            "181/181 [==============================] - 18s 97ms/step - loss: 0.1942 - accuracy: 0.9522 - val_loss: 0.2166 - val_accuracy: 0.9439\n",
            "Epoch 8/20\n",
            "181/181 [==============================] - 19s 103ms/step - loss: 0.1938 - accuracy: 0.9522 - val_loss: 0.2172 - val_accuracy: 0.9439\n",
            "Epoch 9/20\n",
            "181/181 [==============================] - 17s 96ms/step - loss: 0.1955 - accuracy: 0.9522 - val_loss: 0.2161 - val_accuracy: 0.9439\n",
            "Epoch 10/20\n",
            "181/181 [==============================] - 17s 96ms/step - loss: 0.1969 - accuracy: 0.9522 - val_loss: 0.2166 - val_accuracy: 0.9439\n",
            "Epoch 11/20\n",
            "181/181 [==============================] - 24s 130ms/step - loss: 0.1947 - accuracy: 0.9522 - val_loss: 0.2177 - val_accuracy: 0.9439\n",
            "Epoch 12/20\n",
            "181/181 [==============================] - 18s 100ms/step - loss: 0.1941 - accuracy: 0.9522 - val_loss: 0.2274 - val_accuracy: 0.9439\n",
            "Epoch 13/20\n",
            "181/181 [==============================] - 18s 97ms/step - loss: 0.1937 - accuracy: 0.9522 - val_loss: 0.2163 - val_accuracy: 0.9439\n",
            "Epoch 14/20\n",
            "181/181 [==============================] - 17s 94ms/step - loss: 0.1957 - accuracy: 0.9522 - val_loss: 0.2164 - val_accuracy: 0.9439\n",
            "Epoch 15/20\n",
            "181/181 [==============================] - 19s 106ms/step - loss: 0.1947 - accuracy: 0.9522 - val_loss: 0.2196 - val_accuracy: 0.9439\n",
            "Epoch 16/20\n",
            "181/181 [==============================] - 18s 100ms/step - loss: 0.1945 - accuracy: 0.9522 - val_loss: 0.2165 - val_accuracy: 0.9439\n",
            "Epoch 17/20\n",
            "181/181 [==============================] - 17s 94ms/step - loss: 0.1941 - accuracy: 0.9522 - val_loss: 0.2166 - val_accuracy: 0.9439\n",
            "Epoch 18/20\n",
            "181/181 [==============================] - 18s 98ms/step - loss: 0.1945 - accuracy: 0.9522 - val_loss: 0.2161 - val_accuracy: 0.9439\n",
            "Epoch 19/20\n",
            "181/181 [==============================] - 18s 98ms/step - loss: 0.1949 - accuracy: 0.9522 - val_loss: 0.2174 - val_accuracy: 0.9439\n",
            "Epoch 20/20\n",
            "181/181 [==============================] - 21s 116ms/step - loss: 0.1941 - accuracy: 0.9522 - val_loss: 0.2162 - val_accuracy: 0.9439\n",
            "226/226 [==============================] - 9s 33ms/step\n",
            "Classification Report:\n",
            "              precision    recall  f1-score   support\n",
            "\n",
            "         0.0       0.95      1.00      0.97      6860\n",
            "         1.0       0.00      0.00      0.00       357\n",
            "\n",
            "    accuracy                           0.95      7217\n",
            "   macro avg       0.48      0.50      0.49      7217\n",
            "weighted avg       0.90      0.95      0.93      7217\n",
            "\n",
            "Confusion Matrix:\n",
            "[[6860    0]\n",
            " [ 357    0]]\n"
          ]
        },
        {
          "output_type": "stream",
          "name": "stderr",
          "text": [
            "/usr/local/lib/python3.10/dist-packages/sklearn/metrics/_classification.py:1344: UndefinedMetricWarning: Precision and F-score are ill-defined and being set to 0.0 in labels with no predicted samples. Use `zero_division` parameter to control this behavior.\n",
            "  _warn_prf(average, modifier, msg_start, len(result))\n",
            "/usr/local/lib/python3.10/dist-packages/sklearn/metrics/_classification.py:1344: UndefinedMetricWarning: Precision and F-score are ill-defined and being set to 0.0 in labels with no predicted samples. Use `zero_division` parameter to control this behavior.\n",
            "  _warn_prf(average, modifier, msg_start, len(result))\n",
            "/usr/local/lib/python3.10/dist-packages/sklearn/metrics/_classification.py:1344: UndefinedMetricWarning: Precision and F-score are ill-defined and being set to 0.0 in labels with no predicted samples. Use `zero_division` parameter to control this behavior.\n",
            "  _warn_prf(average, modifier, msg_start, len(result))\n"
          ]
        },
        {
          "output_type": "display_data",
          "data": {
            "text/plain": [
              "<Figure size 1000x700 with 2 Axes>"
            ],
            "image/png": "[encoded data removed]"
          },
          "metadata": {}
        }
      ]
    }
  ],
  "metadata": {
    "colab": {
      "provenance": [],
      "authorship_tag": "ABX9TyMaJryu5Y32LTCGdW0mg1sw",
      "include_colab_link": true
    },
    "kernelspec": {
      "display_name": "Python 3",
      "name": "python3"
    },
    "language_info": {
      "name": "python"
    }
  },
  "nbformat": 4,
  "nbformat_minor": 0
}